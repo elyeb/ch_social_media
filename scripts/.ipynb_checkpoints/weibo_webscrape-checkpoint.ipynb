{
 "cells": [
  {
   "cell_type": "code",
   "execution_count": 5,
   "id": "92aa75b0",
   "metadata": {},
   "outputs": [],
   "source": [
    "from weibo_scraper import get_weibo_profile, get_weibo_tweets"
   ]
  },
  {
   "cell_type": "code",
   "execution_count": 2,
   "id": "db1c8675",
   "metadata": {},
   "outputs": [],
   "source": [
    "weibo_profile = get_weibo_profile(name='来去之间')"
   ]
  },
  {
   "cell_type": "code",
   "execution_count": 3,
   "id": "9ea12279",
   "metadata": {},
   "outputs": [
    {
     "data": {
      "text/plain": [
       "<UserMeta uid=1111681197 , screen_name='来去之间' , description='本社区居委会王大伯' , gender='m' , avatar_hd='https://wx1.sinaimg.cn/orj480/4242e8adly8h8v5oisct4j20rx0rxgny.jpg' ,profile_image_url = 'https://tvax1.sinaimg.cn/crop.0.0.1005.1005.180/4242e8adly8h8v5oisct4j20rx0rxgny.jpg?KID=imgbed,tva&Expires=1671248900&ssig=gFMqHTjDgk'>"
      ]
     },
     "execution_count": 3,
     "metadata": {},
     "output_type": "execute_result"
    }
   ],
   "source": [
    "weibo_profile"
   ]
  },
  {
   "cell_type": "code",
   "execution_count": 33,
   "id": "fcd86284",
   "metadata": {},
   "outputs": [
    {
     "name": "stdout",
     "output_type": "stream",
     "text": [
      "{'card_type': 9, 'is_hotweibo': 1, 'display_socialtitle': 1, 'display_followbtn': 1, 'mblog': {'ac_stat': '\\x01', 'attitudes_count': 22407, 'can_edit': False, 'comment_manage_info': {'approval_comment_type': 0, 'comment_permission_type': -1, 'comment_sort_type': 0}, 'comments_count': 1660, 'content_auth': 0, 'created_at': 'Mon Dec 12 16:45:53 +0800 2022', 'darwin_tags': [], 'delThreeYearsStatus': 0, 'digit_attr': 18, 'dispatch_ctrl': 0, 'extern_safe': 0, 'f_level': 1, 'f_level_1': 2, 'f_level_2': 17, 'fans': 36597554, 'favorited': False, 'fid': 4845892569137172, 'hide_hot_flow': 1, 'hot_page': {'feed_detail_type': 0, 'fid': '232742_star'}, 'id': '4845894539677729', 'isLongText': False, 'is_paid': False, 'jump_type': 11, 'mblog_vip_type': 0, 'mblogtype': 0, 'mid': '4845894539677729', 'mlevel': 0, 'new_comment_style': 0, 'number_display_strategy': {'apply_scenario_flag': 3, 'display_text': '100万+', 'display_text_min_number': 1000000}, 'oversea_filter': '2', 'oversea_pass': '2', 'pending_approval_count': 0, 'pic_ids': [], 'pic_num': 0, 'region_name': '浙江', 'region_opt': 0, 'reposts_count': 1304, 'reprint_cmt_count': 0, 'rid': '19_0_0_5117976187757965953_0_0_0', 'safe_tags': 524304, 'show_additional_indication': 0, 'show_mlevel': 0, 'social_time_info': '{\"time\":{\"cat\":\"1\",\"action\":[{\"time\":\"1671018304\",\"type\":\"1\",\"count\":\"21000\"}]}}', 'source': '微博视频号', 'status': 0, 'status_city': '杭州', 'status_country': '中国', 'status_province': '浙江', 'text': '从上海到杭州再到乌镇，<a  href=\"https://m.weibo.cn/search?containerid=231522type%3D1%26t%3D10%26q%3D%23%E5%8D%81%E4%B8%89%E8%A7%92%E5%85%B3%E7%B3%BB%23&isnewpage=1&luicode=10000011&lfid=231522type%253D1%2526t%253D10%2526q%253D%2523%25E5%258D%2581%25E4%25B8%2589%25E8%25A7%2592%25E5%2585%25B3%25E7%25B3%25BB%2523\" data-hide=\"\"><span class=\"surl-text\">#十三角关系#</span></a> 今年的全部演出在乌镇戏剧节圆满落幕了。十年后能够再演花姐，和热爱戏剧的每一位观众在舞台相遇，感恩<span class=\"url-icon\"><img alt=[心] src=\"https://h5.sinaimg.cn/m/emoticon/icon/others/l_xin-43af9086c0.png\" style=\"width:1em; height:1em;\" /></span>感谢大家一路以来给予话剧娜的掌声与陪伴，你们的话剧观后感，真的，让我很感动，未来我们在充满爱的舞台再见<span class=\"url-icon\"><img alt=[太阳] src=\"https://h5.sinaimg.cn/m/emoticon/icon/others/w_taiyang-2b1d91ddac.png\" style=\"width:1em; height:1em;\" /></span><a  href=\"https://m.weibo.cn/search?containerid=231522type%3D1%26t%3D10%26q%3D%23%E8%B0%A2%E5%A8%9C%E7%9A%84%E5%89%A7%E5%9C%BA%E7%94%B5%E5%8F%B0%23&extparam=%23%E8%B0%A2%E5%A8%9C%E7%9A%84%E5%89%A7%E5%9C%BA%E7%94%B5%E5%8F%B0%23&luicode=10000011&lfid=231522type%253D1%2526t%253D10%2526q%253D%2523%25E5%258D%2581%25E4%25B8%2589%25E8%25A7%2592%25E5%2585%25B3%25E7%25B3%25BB%2523\" data-hide=\"\"><span class=\"surl-text\">#谢娜的剧场电台#</span></a> <a  href=\"https://video.weibo.com/show?fid=1034:4845892319248485\" data-hide=\"\"><span class=\\'url-icon\\'><img style=\\'width: 1rem;height: 1rem\\' src=\\'https://h5.sinaimg.cn/upload/2015/09/25/3/timeline_card_small_video_default.png\\'></span><span class=\"surl-text\">谢娜的微博视频</span></a> ', 'textLength': 280, 'user': {'id': 1192329374, 'screen_name': '谢娜', 'profile_image_url': 'https://tva3.sinaimg.cn/crop.0.1.1242.1242.180/4711809ejw8f387zus4vpj20yi0ykjwd.jpg?KID=imgbed,tva&Expires=1671503407&ssig=JoGV2%2F%2BDJP', 'profile_url': 'https://m.weibo.cn/u/1192329374?uid=1192329374&luicode=10000011&lfid=231522type%253D1%2526t%253D10%2526q%253D%2523%25E5%258D%2581%25E4%25B8%2589%25E8%25A7%2592%25E5%2585%25B3%25E7%25B3%25BB%2523', 'statuses_count': 10701, 'verified': True, 'verified_type': 0, 'verified_type_ext': 1, 'verified_reason': '演员，主持人', 'close_blue_v': False, 'description': '太阳女神（也可称为喜神）的光芒照四方呀嘛照四方：）工作邮箱：w761324@qq.com（仅限工作）感谢！', 'gender': 'f', 'mbtype': 12, 'svip': 1, 'urank': 48, 'mbrank': 9, 'follow_me': False, 'following': False, 'follow_count': 749, 'followers_count': '1.28亿', 'followers_count_str': '1.28亿', 'cover_image_phone': 'https://tva4.sinaimg.cn/crop.0.0.640.640.640/6ce2240djw1e8iktk4ohij20hs0hsmz6.jpg', 'avatar_hd': 'https://ww3.sinaimg.cn/orj480/4711809ejw8f387zus4vpj20yi0ykjwd.jpg', 'like': False, 'like_me': False, 'badge': {'bind_taobao': 1, 'china_2019': 1, 'china_2020': 1, 'city_university': 24, 'dailv_2018': 5, 'dailv_2020': 1, 'double11_2018': 1, 'dzwbqlx_2016': 1, 'feiyan_2020': 1, 'follow_whitelist_video': 1, 'gangqi_2022': 1, 'gaokao_2021': 1, 'gaokao_2022': 1, 'gongjiri_2019': 1, 'gongyi': 1, 'guoq_2022': 1, 'guoqi_2022': 1, 'hangmu_2022': 1, 'hongbao_2020': 2, 'hongbaofei_2019': 1, 'memorial_2018': 1, 'party_cardid_state': 1, 'pc_new': 7, 'qixi_2018': 1, 'rrgyj_2019': 1, 'status_visible': 1, 'user_name_certificate': 1, 'video_attention': 1, 'wbzy_2018': 1, 'wenchuan_10th': 1, 'yiqijuan_2018': 1, 'zongyiji': 1}}, 'visible': {'list_id': 0, 'type': 0}, 'title': {'text': '热门'}, 'button_business_no': '0116_', 'summary_order': [1, 2, 3], 'mblog_show_union_info': 1, 'buttons': [{'sub_type': 0, 'name': '关注', 'pic': 'http://u1.sinaimg.cn/upload/2013/07/02/timeline_card_small_button_icon_add.png', 'scheme': 'sinaweibo://userinfo?uid=1192329374', 'params': {'type': 'user', 'uid': 1192329374, 'extparams': {'followcardid': '2315220116_'}}, 'show_loading': 1, 'type': 'follow', 'actionlog': {'act_code': 92, 'ext': 'seqid:413504881|type:1|t:10|pos:1-1-0|q:#十三角关系#|srid:e20a7b4c41ef77983230b455583b36e7|search_ssid:e20a7b4c41ef77983230b455583b36e7|ext:&cate=26&mid=4845894539677729&is_show_hongbaofei_2022=1&follow_btn=1&act_code=92&qri=35184372088832&qtime=1671492607&', 'luicode': None, 'uicode': None, 'fid': '231522type%3D1%26t%3D10%26q%3D%23%E5%8D%81%E4%B8%89%E8%A7%92%E5%85%B3%E7%B3%BB%23', 'lfid': None}}], 'itemid': None, 'analysis_extra': 'seqid:413504881|type:1|t:10|pos:1-1-0|q:#十三角关系#|srid:e20a7b4c41ef77983230b455583b36e7|search_ssid:e20a7b4c41ef77983230b455583b36e7|ext:&cate=26&mid=4845894539677729&is_show_hongbaofei_2022=1&qri=35184372088832&qtime=1671492607&', 'page_info': {'type': 'video', 'object_type': 11, 'url_ori': 'http://t.cn/A6KK3TFA', 'page_pic': {'height': 1080, 'is_self_cover': 1, 'pid': '001iGTkWgy1h914cqia4hj61hc0u047b02', 'source': 2, 'type': 1, 'url': 'https://wx2.sinaimg.cn/orj480/001iGTkWgy1h914cqia4hj61hc0u047b02.jpg', 'width': 1920}, 'page_url': 'https://video.weibo.com/show?fid=1034%3A4845892319248485&luicode=10000011&lfid=231522type%253D1%2526t%253D10%2526q%253D%2523%25E5%258D%2581%25E4%25B8%2589%25E8%25A7%2592%25E5%2585%25B3%25E7%25B3%25BB%2523', 'object_id': '1034:4845892319248485', 'page_title': '谢娜的微博视频', 'title': '', 'content1': '谢娜的微博视频', 'content2': '从上海到杭州再到乌镇，#十三角关系# 今年的全部演出在乌镇戏剧节圆满落幕了。十年后能够再演花姐，和热爱戏剧的每一位观众在舞台相遇，感恩[心]感谢大家一路以来给予话剧娜的掌声与陪伴，你们的话剧观后感，真的，让我很感动，未来我们在充满爱的舞台再见[太阳]#谢娜的剧场电台#', 'video_orientation': 'horizontal', 'play_count': '372万次播放', 'media_info': {'stream_url': 'https://f.video.weibocdn.com/o0/fLOz2A0Qlx081uTnCcZq01041200Mhhd0E010.mp4?label=mp4_ld&template=640x360.25.0&ori=0&ps=1CwnkDw1GXwCQx&Expires=1671496189&ssig=y0%2BrzXtFDt&KID=unistore,video', 'stream_url_hd': 'https://f.video.weibocdn.com/o0/jof9eBNOlx081uToQH8c01041201jOZF0E010.mp4?label=mp4_hd&template=852x480.25.0&ori=0&ps=1CwnkDw1GXwCQx&Expires=1671496189&ssig=zDs6d%2BaPxz&KID=unistore,video', 'duration': 274.993}, 'urls': {'mp4_720p_mp4': 'https://f.video.weibocdn.com/o0/KmaLKLJ8lx081uTsIM4001041202io0W0E010.mp4?label=mp4_720p&template=1280x720.25.0&ori=0&ps=1CwnkDw1GXwCQx&Expires=1671496189&ssig=8Hor9Fup72&KID=unistore,video', 'mp4_hd_mp4': 'https://f.video.weibocdn.com/o0/jof9eBNOlx081uToQH8c01041201jOZF0E010.mp4?label=mp4_hd&template=852x480.25.0&ori=0&ps=1CwnkDw1GXwCQx&Expires=1671496189&ssig=zDs6d%2BaPxz&KID=unistore,video', 'mp4_ld_mp4': 'https://f.video.weibocdn.com/o0/fLOz2A0Qlx081uTnCcZq01041200Mhhd0E010.mp4?label=mp4_ld&template=640x360.25.0&ori=0&ps=1CwnkDw1GXwCQx&Expires=1671496189&ssig=y0%2BrzXtFDt&KID=unistore,video'}}, 'bid': 'MjfVrEBCp'}, 'itemid': 'seqid:413504881|type:1|t:10|pos:1-1-0|q:#十三角关系#|srid:e20a7b4c41ef77983230b455583b36e7|search_ssid:e20a7b4c41ef77983230b455583b36e7|ext:&cate=26&mid=4845894539677729&is_show_hongbaofei_2022=1&qri=35184372088832&qtime=1671492607&', 'actionlog': {'act_code': 554, 'ext': 'seqid:413504881|type:1|t:10|pos:1-1-0|q:#十三角关系#|srid:e20a7b4c41ef77983230b455583b36e7|search_ssid:e20a7b4c41ef77983230b455583b36e7|ext:&cate=26&mid=4845894539677729&is_show_hongbaofei_2022=1&qri=35184372088832&qtime=1671492607&', 'luicode': None, 'uicode': None, 'fid': '231522type%3D1%26t%3D10%26q%3D%23%E5%8D%81%E4%B8%89%E8%A7%92%E5%85%B3%E7%B3%BB%23', 'lfid': None}, 'positive_recom_pos': 1, 'cate_id': '26', 'display_arrow': 0, 'show_type': 1, 'scheme': 'https://m.weibo.cn/status/MjfVrEBCp?mblogid=MjfVrEBCp&luicode=10000011&lfid=231522type%253D1%2526t%253D10%2526q%253D%2523%25E5%258D%2581%25E4%25B8%2589%25E8%25A7%2592%25E5%2585%25B3%25E7%25B3%25BB%2523', 'container_color': '#EEEEEE', 'container_color_dark': '#151515'}\n",
      "{'card_type': 9, 'is_hotweibo': 1, 'display_socialtitle': 1, 'display_followbtn': 1, 'mblog': {'ac_stat': '\\x01', 'attitudes_count': 649, 'bmiddle_pic': 'http://wx3.sinaimg.cn/bmiddle/006Qvw8vgy1h8ipufiuwxj364w43cnph.jpg', 'can_edit': False, 'comment_manage_info': {'approval_comment_type': 0, 'comment_permission_type': -1, 'comment_sort_type': 0}, 'comments_count': 70, 'content_auth': 0, 'created_at': 'Sat Nov 26 19:06:42 +0800 2022', 'darwin_tags': [], 'delThreeYearsStatus': 0, 'digit_attr': 9, 'dispatch_ctrl': 0, 'extern_safe': 0, 'f_level': 3, 'f_level_1': 5, 'f_level_2': 10, 'falls_pic_focus_point': [], 'fans': 77977, 'favorited': False, 'hot_page': {'feed_detail_type': 0, 'fid': '232532_supergroup'}, 'id': '4840131770453853', 'isLongText': False, 'is_imported_topic': False, 'is_paid': False, 'jump_type': 1, 'mblog_vip_type': 0, 'mblogtype': 0, 'mid': '4840131770453853', 'mlevel': 0, 'new_comment_style': 0, 'number_display_strategy': {'apply_scenario_flag': 3, 'display_text': '100万+', 'display_text_min_number': 1000000}, 'original_pic': 'https://wx3.sinaimg.cn/large/006Qvw8vgy1h8ipufiuwxj364w43cnph.jpg', 'oversea_filter': '2', 'oversea_pass': '2', 'pending_approval_count': 0, 'picStatus': '0:1,1:1,2:1,3:1', 'pic_flag': 1, 'pic_focus_point': [{'focus_point': {'height': 0.34782609343529, 'left': 0.49855071306229, 'top': 0.48695650696754, 'width': 0.23188406229019}, 'pic_id': '006Qvw8vgy1h8iqkflx7pj336c247x6q'}, {'focus_point': {'height': 0.48695650696754, 'left': 0.39420288801193, 'top': 0.29565218091011, 'width': 0.3246376812458}, 'pic_id': '006Qvw8vgy1h8iqk8vqqaj34k431fu10'}, {'focus_point': {'height': 0.10000000149012, 'left': 0.905797123909, 'top': 0.49782609939575, 'width': 0.056521739810705}, 'pic_id': '006Qvw8vgy1h8ipu5b9nlj364w43ckjq'}, {'focus_point': {'height': 0.26086956262589, 'left': 0.63333332538605, 'top': 0.21956521272659, 'width': 0.36086955666542}, 'pic_id': '006Qvw8vgy1h8ipufiuwxj364w43cnph'}], 'pic_ids': ['006Qvw8vgy1h8ipufiuwxj364w43cnph', '006Qvw8vgy1h8ipu5b9nlj364w43ckjq', '006Qvw8vgy1h8iqk8vqqaj34k431fu10', '006Qvw8vgy1h8iqkflx7pj336c247x6q'], 'pic_num': 4, 'pic_rectangle_object': [{'pic_id': '006Qvw8vgy1h8ipu5b9nlj364w43ckjq', 'rectangle_objects': [{'height': 0.10000000149012, 'left': 0.905797123909, 'top': 0.49782609939575, 'type': 0, 'width': 0.056521739810705}]}, {'pic_id': '006Qvw8vgy1h8ipufiuwxj364w43cnph', 'rectangle_objects': [{'height': 0.26086956262589, 'left': 0.63333332538605, 'top': 0.21956521272659, 'type': 0, 'width': 0.36086955666542}]}], 'region_name': '浙江', 'region_opt': 0, 'reposts_count': 37, 'reprint_cmt_count': 0, 'rid': '8_0_0_5117976187757965953_0_0_0', 'safe_tags': 16, 'show_additional_indication': 0, 'show_mlevel': 0, 'social_time_info': '{\"time\":{\"cat\":\"1\",\"action\":[{\"time\":\"1669478520\",\"type\":\"1\",\"count\":\"300\"}]}}', 'source': '谢娜超话', 'status': 0, 'status_city': '嘉兴', 'status_country': '中国', 'status_province': '浙江', 'sync_mblog': True, 'text': '<a  href=\"https://m.weibo.cn/p/index?extparam=%E8%B0%A2%E5%A8%9C&containerid=1008081ff74abe16533754a606d357289901f9&luicode=10000011&lfid=231522type%253D1%2526t%253D10%2526q%253D%2523%25E5%258D%2581%25E4%25B8%2589%25E8%25A7%2592%25E5%2585%25B3%25E7%25B3%25BB%2523\" data-hide=\"\"><span class=\\'url-icon\\'><img style=\\'width: 1rem;height: 1rem\\' src=\\'https://n.sinaimg.cn/photo/5213b46e/20180926/timeline_card_small_super_default.png\\'></span><span class=\"surl-text\">谢娜</span></a><a  href=\"https://m.weibo.cn/search?containerid=231522type%3D1%26t%3D10%26q%3D%23%E5%8D%81%E4%B8%89%E8%A7%92%E5%85%B3%E7%B3%BB%23&isnewpage=1&luicode=10000011&lfid=231522type%253D1%2526t%253D10%2526q%253D%2523%25E5%258D%2581%25E4%25B8%2589%25E8%25A7%2592%25E5%2585%25B3%25E7%25B3%25BB%2523\" data-hide=\"\"><span class=\"surl-text\">#十三角关系#</span></a> 今日乌镇戏剧节首演！花姐<a href=\\'/n/谢娜\\'>@谢娜</a> 的乌镇舞台首秀，今晚我们剧场见！<a  href=\"https://m.weibo.cn/search?containerid=231522type%3D1%26t%3D10%26q%3D%23%E8%B0%A2%E5%A8%9C%E4%B9%8C%E9%95%87%E6%88%8F%E5%89%A7%E8%8A%82%E9%A6%96%E6%BC%94%23&extparam=%23%E8%B0%A2%E5%A8%9C%E4%B9%8C%E9%95%87%E6%88%8F%E5%89%A7%E8%8A%82%E9%A6%96%E6%BC%94%23&luicode=10000011&lfid=231522type%253D1%2526t%253D10%2526q%253D%2523%25E5%258D%2581%25E4%25B8%2589%25E8%25A7%2592%25E5%2585%25B3%25E7%25B3%25BB%2523\" data-hide=\"\"><span class=\"surl-text\">#谢娜乌镇戏剧节首演#</span></a> ', 'textLength': 107, 'thumbnail_pic': 'https://wx3.sinaimg.cn/thumbnail/006Qvw8vgy1h8ipufiuwxj364w43cnph.jpg', 'topic_id': '1022:1008081ff74abe16533754a606d357289901f9', 'user': {'id': 6272678167, 'screen_name': '谢娜工作室', 'profile_image_url': 'https://tvax2.sinaimg.cn/crop.0.0.512.512.180/006Qvw8vly8fsd8k5uw0dj30e80e8aac.jpg?KID=imgbed,tva&Expires=1671503407&ssig=QO1Pw1ibBm', 'profile_url': 'https://m.weibo.cn/u/6272678167?uid=6272678167&luicode=10000011&lfid=231522type%253D1%2526t%253D10%2526q%253D%2523%25E5%258D%2581%25E4%25B8%2589%25E8%25A7%2592%25E5%2585%25B3%25E7%25B3%25BB%2523', 'statuses_count': 1810, 'verified': True, 'verified_type': 7, 'verified_type_ext': 0, 'verified_reason': '谢娜工作室官方微博', 'close_blue_v': False, 'description': '谢娜工作室官方微博 工作联络：xienagongzuoshi@126.com（仅限工作使用）', 'gender': 'f', 'mbtype': 12, 'svip': 0, 'urank': 1, 'mbrank': 7, 'follow_me': False, 'following': False, 'follow_count': 42, 'followers_count': '21.6万', 'followers_count_str': '21.6万', 'cover_image_phone': 'https://wx1.sinaimg.cn/crop.0.0.640.640.640/006Qvw8vly1fl8718r0f3j30ku0kugme.jpg', 'avatar_hd': 'https://wx2.sinaimg.cn/orj480/006Qvw8vly8fsd8k5uw0dj30e80e8aac.jpg', 'like': False, 'like_me': False, 'badge': {'china_2019': 1, 'china_2020': 1, 'dailv_2020': 1, 'double11_2018': 1, 'feiyan_2020': 1, 'gaokao_2021': 1, 'gongjiri_2019': 1, 'guoq_2022': 1, 'hongbao_2020': 2, 'hongbaofei_2019': 1, 'memorial_2018': 1, 'party_cardid_state': 1, 'pc_new': 7, 'qixi_2018': 1, 'rrgyj_2019': 1, 'status_visible': 1, 'user_name_certificate': 1, 'wenchuan_10th': 1, 'wusi_2019': 1, 'yinyuejie21_2021': 1, 'yiqijuan_2018': 1}}, 'visible': {'list_id': 0, 'type': 0}, 'title': {'text': '热门'}, 'button_business_no': '0116_', 'summary_order': [1, 2, 3], 'mblog_show_union_info': 1, 'buttons': [{'sub_type': 0, 'name': '关注', 'pic': 'http://u1.sinaimg.cn/upload/2013/07/02/timeline_card_small_button_icon_add.png', 'scheme': 'sinaweibo://userinfo?uid=6272678167', 'params': {'type': 'user', 'uid': 6272678167, 'extparams': {'followcardid': '2315220116_'}}, 'show_loading': 1, 'type': 'follow', 'actionlog': {'act_code': 92, 'ext': 'seqid:413504881|type:1|t:10|pos:1-1-0|q:#十三角关系#|srid:e20a7b4c41ef77983230b455583b36e7|search_ssid:e20a7b4c41ef77983230b455583b36e7|ext:&cate=26&mid=4840131770453853&is_show_hongbaofei_2022=1&follow_btn=1&act_code=92&qri=35184372088832&qtime=1671492607&', 'luicode': None, 'uicode': None, 'fid': '231522type%3D1%26t%3D10%26q%3D%23%E5%8D%81%E4%B8%89%E8%A7%92%E5%85%B3%E7%B3%BB%23', 'lfid': None}}], 'itemid': None, 'analysis_extra': 'seqid:413504881|type:1|t:10|pos:1-1-1|q:#十三角关系#|srid:e20a7b4c41ef77983230b455583b36e7|search_ssid:e20a7b4c41ef77983230b455583b36e7|ext:&cate=26&mid=4840131770453853&is_show_hongbaofei_2022=1&qri=35184372088832&qtime=1671492607&', 'page_info': {'type': 'topic', 'object_type': 0, 'page_pic': {'url': 'https://wx4.sinaimg.cn/thumbnail/6927939ely8h924yl0m6lg20e60e6b2h.gif'}, 'page_url': 'https://m.weibo.cn/p/index?extparam=%E8%B0%A2%E5%A8%9C&containerid=1008081ff74abe16533754a606d357289901f9&luicode=10000011&lfid=231522type%253D1%2526t%253D10%2526q%253D%2523%25E5%258D%2581%25E4%25B8%2589%25E8%25A7%2592%25E5%2585%25B3%25E7%25B3%25BB%2523', 'page_title': '【超话】谢娜', 'content1': '谢娜，中国内地主持人，综艺女王。曾出版《娜是一阵疯》《娜写年华》《娜么快乐》《娜是光照亮的地方》《娜就出发吧》五本畅销书；发行《菠萝菠萝蜜》、《乐玩乐疯》和《蓝色巧克力》三张个人专辑。主持《快乐大本营》《百变大咖秀》《娜就这么说》《神奇的孩子》《嗨唱转起来》《朋友请听好》等热播电视综艺，《偶滴歌神啊》《拜托了衣橱》等热门网络综艺，同时参加《我要上春晚》等多个热门综艺担任飞行嘉宾。2017年联合Uni-Class共同创建新锐设计师品牌娜样Nayoung，个人全球首尊蜡像将于重庆杜莎夫人蜡像馆揭幕，2019年成为中国儿童少年基金会关爱儿童亲善大使。', 'content2': '705849人关注'}, 'pics': [{'pid': '006Qvw8vgy1h8ipufiuwxj364w43cnph', 'url': 'https://wx3.sinaimg.cn/orj360/006Qvw8vgy1h8ipufiuwxj364w43cnph.jpg', 'size': 'orj360', 'geo': {'width': 404, 'height': 270, 'croped': False}, 'large': {'size': 'large', 'url': 'https://wx3.sinaimg.cn/large/006Qvw8vgy1h8ipufiuwxj364w43cnph.jpg', 'geo': {'width': 2048, 'height': 1366, 'croped': False}}}, {'pid': '006Qvw8vgy1h8ipu5b9nlj364w43ckjq', 'url': 'https://wx4.sinaimg.cn/orj360/006Qvw8vgy1h8ipu5b9nlj364w43ckjq.jpg', 'size': 'orj360', 'geo': {'width': 404, 'height': 270, 'croped': False}, 'large': {'size': 'large', 'url': 'https://wx4.sinaimg.cn/large/006Qvw8vgy1h8ipu5b9nlj364w43ckjq.jpg', 'geo': {'width': 2048, 'height': 1366, 'croped': False}}}, {'pid': '006Qvw8vgy1h8iqk8vqqaj34k431fu10', 'url': 'https://wx4.sinaimg.cn/orj360/006Qvw8vgy1h8iqk8vqqaj34k431fu10.jpg', 'size': 'orj360', 'geo': {'width': 405, 'height': 270, 'croped': False}, 'large': {'size': 'large', 'url': 'https://wx4.sinaimg.cn/large/006Qvw8vgy1h8iqk8vqqaj34k431fu10.jpg', 'geo': {'width': 2048, 'height': 1365, 'croped': False}}}, {'pid': '006Qvw8vgy1h8iqkflx7pj336c247x6q', 'url': 'https://wx4.sinaimg.cn/orj360/006Qvw8vgy1h8iqkflx7pj336c247x6q.jpg', 'size': 'orj360', 'geo': {'width': 405, 'height': 270, 'croped': False}, 'large': {'size': 'large', 'url': 'https://wx4.sinaimg.cn/large/006Qvw8vgy1h8iqkflx7pj336c247x6q.jpg', 'geo': {'width': 2048, 'height': 1364, 'croped': False}}}], 'bid': 'MgQ0F1U4d'}, 'itemid': 'seqid:413504881|type:1|t:10|pos:1-1-1|q:#十三角关系#|srid:e20a7b4c41ef77983230b455583b36e7|search_ssid:e20a7b4c41ef77983230b455583b36e7|ext:&cate=26&mid=4840131770453853&is_show_hongbaofei_2022=1&qri=35184372088832&qtime=1671492607&', 'actionlog': {'act_code': 554, 'ext': 'seqid:413504881|type:1|t:10|pos:1-1-1|q:#十三角关系#|srid:e20a7b4c41ef77983230b455583b36e7|search_ssid:e20a7b4c41ef77983230b455583b36e7|ext:&cate=26&mid=4840131770453853&is_show_hongbaofei_2022=1&qri=35184372088832&qtime=1671492607&', 'luicode': None, 'uicode': None, 'fid': '231522type%3D1%26t%3D10%26q%3D%23%E5%8D%81%E4%B8%89%E8%A7%92%E5%85%B3%E7%B3%BB%23', 'lfid': None}, 'positive_recom_pos': 1, 'cate_id': '26', 'display_arrow': 0, 'show_type': 1, 'scheme': 'https://m.weibo.cn/status/MgQ0F1U4d?mblogid=MgQ0F1U4d&luicode=10000011&lfid=231522type%253D1%2526t%253D10%2526q%253D%2523%25E5%258D%2581%25E4%25B8%2589%25E8%25A7%2592%25E5%2585%25B3%25E7%25B3%25BB%2523', 'container_color': '#EEEEEE', 'container_color_dark': '#151515'}\n"
     ]
    }
   ],
   "source": [
    "for tweet in get_weibo_tweets(tweet_container_id='231522type%3D1%26t%3D10%26q%3D%23%E5%8D%81%E4%B8%89%E8%A7%92%E5%85%B3%E7%B3%BB%23',pages=1):\n",
    "    print(tweet)"
   ]
  },
  {
   "cell_type": "code",
   "execution_count": 32,
   "id": "fb8ad631",
   "metadata": {
    "collapsed": true
   },
   "outputs": [
    {
     "data": {
      "text/plain": [
       "{'card_type': 9,\n",
       " 'profile_type_id': 'proweibo_4844822173059686',\n",
       " 'itemid': '1076031192329374_-_4844822173059686',\n",
       " 'scheme': 'https://m.weibo.cn/status/MiO1PcPXM?mblogid=MiO1PcPXM&luicode=10000011&lfid=1076031192329374',\n",
       " 'mblog': {'visible': {'type': 0, 'list_id': 0},\n",
       "  'created_at': 'Fri Dec 09 17:44:41 +0800 2022',\n",
       "  'id': '4844822173059686',\n",
       "  'mid': '4844822173059686',\n",
       "  'can_edit': False,\n",
       "  'show_additional_indication': 0,\n",
       "  'text': '每次导演笔记时间，也是我们小型斗嘴现场，这是我们第一次联排之后的斗嘴现场<span class=\"url-icon\"><img alt=[哈哈] src=\"https://h5.sinaimg.cn/m/emoticon/icon/default/d_haha-0ec05e6dad.png\" style=\"width:1em; height:1em;\" /></span><a  href=\"https://m.weibo.cn/search?containerid=231522type%3D1%26t%3D10%26q%3D%23%E5%8D%81%E4%B8%89%E8%A7%92%E5%85%B3%E7%B3%BB%23&isnewpage=1&luicode=10000011&lfid=1076031192329374\" data-hide=\"\"><span class=\"surl-text\">#十三角关系#</span></a><a  href=\"https://m.weibo.cn/search?containerid=231522type%3D1%26t%3D10%26q%3D%23%E8%B0%A2%E5%A8%9C%E7%9A%84%E5%89%A7%E5%9C%BA%E7%94%B5%E5%8F%B0%23&extparam=%23%E8%B0%A2%E5%A8%9C%E7%9A%84%E5%89%A7%E5%9C%BA%E7%94%B5%E5%8F%B0%23&luicode=10000011&lfid=1076031192329374\" data-hide=\"\"><span class=\"surl-text\">#谢娜的剧场电台#</span></a> <a  href=\"https://video.weibo.com/show?fid=1034:4844821182087174\" data-hide=\"\"><span class=\\'url-icon\\'><img style=\\'width: 1rem;height: 1rem\\' src=\\'https://h5.sinaimg.cn/upload/2015/09/25/3/timeline_card_small_video_default.png\\'></span><span class=\"surl-text\">谢娜的微博视频</span></a> ',\n",
       "  'textLength': 127,\n",
       "  'source': '微博视频号',\n",
       "  'favorited': False,\n",
       "  'pic_ids': [],\n",
       "  'is_paid': False,\n",
       "  'mblog_vip_type': 0,\n",
       "  'user': {'id': 1192329374,\n",
       "   'screen_name': '谢娜',\n",
       "   'profile_image_url': 'https://tva3.sinaimg.cn/crop.0.1.1242.1242.180/4711809ejw8f387zus4vpj20yi0ykjwd.jpg?KID=imgbed,tva&Expires=1671500699&ssig=IcBTYG%2BDs5',\n",
       "   'profile_url': 'https://m.weibo.cn/u/1192329374?uid=1192329374&luicode=10000011&lfid=1076031192329374',\n",
       "   'statuses_count': 10701,\n",
       "   'verified': True,\n",
       "   'verified_type': 0,\n",
       "   'verified_type_ext': 1,\n",
       "   'verified_reason': '演员，主持人',\n",
       "   'close_blue_v': False,\n",
       "   'description': '太阳女神（也可称为喜神）的光芒照四方呀嘛照四方：）工作邮箱：w761324@qq.com（仅限工作）感谢！',\n",
       "   'gender': 'f',\n",
       "   'mbtype': 12,\n",
       "   'svip': 1,\n",
       "   'urank': 48,\n",
       "   'mbrank': 9,\n",
       "   'follow_me': False,\n",
       "   'following': False,\n",
       "   'follow_count': 749,\n",
       "   'followers_count': '1.28亿',\n",
       "   'followers_count_str': '1.28亿',\n",
       "   'cover_image_phone': 'https://tva4.sinaimg.cn/crop.0.0.640.640.640/6ce2240djw1e8iktk4ohij20hs0hsmz6.jpg',\n",
       "   'avatar_hd': 'https://ww3.sinaimg.cn/orj480/4711809ejw8f387zus4vpj20yi0ykjwd.jpg',\n",
       "   'like': False,\n",
       "   'like_me': False,\n",
       "   'badge': {'gongyi': 1,\n",
       "    'bind_taobao': 1,\n",
       "    'zongyiji': 1,\n",
       "    'dzwbqlx_2016': 1,\n",
       "    'follow_whitelist_video': 1,\n",
       "    'video_attention': 1,\n",
       "    'user_name_certificate': 1,\n",
       "    'wenchuan_10th': 1,\n",
       "    'dailv_2018': 5,\n",
       "    'qixi_2018': 1,\n",
       "    'yiqijuan_2018': 1,\n",
       "    'double11_2018': 1,\n",
       "    'wbzy_2018': 1,\n",
       "    'memorial_2018': 1,\n",
       "    'hongbaofei_2019': 1,\n",
       "    'status_visible': 1,\n",
       "    'china_2019': 1,\n",
       "    'rrgyj_2019': 1,\n",
       "    'gongjiri_2019': 1,\n",
       "    'hongbao_2020': 2,\n",
       "    'feiyan_2020': 1,\n",
       "    'pc_new': 7,\n",
       "    'dailv_2020': 1,\n",
       "    'china_2020': 1,\n",
       "    'gaokao_2021': 1,\n",
       "    'party_cardid_state': 1,\n",
       "    'city_university': 24,\n",
       "    'gaokao_2022': 1,\n",
       "    'hangmu_2022': 1,\n",
       "    'guoqi_2022': 1,\n",
       "    'gangqi_2022': 1,\n",
       "    'guoq_2022': 1}},\n",
       "  'reposts_count': 1086,\n",
       "  'comments_count': 1674,\n",
       "  'reprint_cmt_count': 0,\n",
       "  'attitudes_count': 13692,\n",
       "  'pending_approval_count': 0,\n",
       "  'isLongText': False,\n",
       "  'mlevel': 0,\n",
       "  'show_mlevel': 0,\n",
       "  'darwin_tags': [],\n",
       "  'hot_page': {'fid': '232742_star', 'feed_detail_type': 0},\n",
       "  'mblogtype': 0,\n",
       "  'rid': '9_0_50_4805491478450947560_0_0_0',\n",
       "  'extern_safe': 0,\n",
       "  'number_display_strategy': {'apply_scenario_flag': 3,\n",
       "   'display_text_min_number': 1000000,\n",
       "   'display_text': '100万+'},\n",
       "  'content_auth': 0,\n",
       "  'safe_tags': 524304,\n",
       "  'comment_manage_info': {'comment_permission_type': -1,\n",
       "   'approval_comment_type': 0,\n",
       "   'comment_sort_type': 0},\n",
       "  'hide_hot_flow': 1,\n",
       "  'pic_num': 0,\n",
       "  'fid': 4844821754937423,\n",
       "  'jump_type': 11,\n",
       "  'new_comment_style': 0,\n",
       "  'ab_switcher': 4,\n",
       "  'region_name': '发布于 北京',\n",
       "  'region_opt': 1,\n",
       "  'mblog_menu_new_style': 0,\n",
       "  'edit_config': {'edited': False},\n",
       "  'page_info': {'type': 'video',\n",
       "   'object_type': 11,\n",
       "   'url_ori': 'http://t.cn/A6Ka5414',\n",
       "   'page_pic': {'width': 1920,\n",
       "    'pid': '001iGTkWly1h8xp7fk8yfj61hc0u0jzc02',\n",
       "    'source': 2,\n",
       "    'is_self_cover': 1,\n",
       "    'type': 1,\n",
       "    'url': 'https://wx3.sinaimg.cn/orj480/001iGTkWly1h8xp7fk8yfj61hc0u0jzc02.jpg',\n",
       "    'height': 1080},\n",
       "   'page_url': 'https://video.weibo.com/show?fid=1034%3A4844821182087174&luicode=10000011&lfid=1076031192329374',\n",
       "   'object_id': '1034:4844821182087174',\n",
       "   'page_title': '谢娜的微博视频',\n",
       "   'title': '',\n",
       "   'content1': '谢娜的微博视频',\n",
       "   'content2': '每次导演笔记时间，也是我们小型斗嘴现场，这是我们第一次联排之后的斗嘴现场[哈哈]#十三角关系##谢娜的剧场电台#',\n",
       "   'video_orientation': 'horizontal',\n",
       "   'play_count': '250万次播放',\n",
       "   'media_info': {'stream_url': 'https://f.video.weibocdn.com/o0/JDrx4IWGlx081qaLLNSg01041200xJ520E010.mp4?label=mp4_ld&template=640x360.25.0&ori=0&ps=1CwnkDw1GXwCQx&Expires=1671493499&ssig=TRNjyXvpBs&KID=unistore,video',\n",
       "    'stream_url_hd': 'https://f.video.weibocdn.com/o0/14gC41Yelx081qaLvZj201041200Rou30E010.mp4?label=mp4_hd&template=852x480.25.0&ori=0&ps=1CwnkDw1GXwCQx&Expires=1671493499&ssig=V2rkg%2FMa1V&KID=unistore,video',\n",
       "    'duration': 220.054},\n",
       "   'urls': {'mp4_720p_mp4': 'https://f.video.weibocdn.com/o0/d3NkwPXklx081qaNUiPm01041201Duuj0E010.mp4?label=mp4_720p&template=1280x720.25.0&ori=0&ps=1CwnkDw1GXwCQx&Expires=1671493499&ssig=mZK08%2BoKV5&KID=unistore,video',\n",
       "    'mp4_hd_mp4': 'https://f.video.weibocdn.com/o0/14gC41Yelx081qaLvZj201041200Rou30E010.mp4?label=mp4_hd&template=852x480.25.0&ori=0&ps=1CwnkDw1GXwCQx&Expires=1671493499&ssig=V2rkg%2FMa1V&KID=unistore,video',\n",
       "    'mp4_ld_mp4': 'https://f.video.weibocdn.com/o0/JDrx4IWGlx081qaLLNSg01041200xJ520E010.mp4?label=mp4_ld&template=640x360.25.0&ori=0&ps=1CwnkDw1GXwCQx&Expires=1671493499&ssig=TRNjyXvpBs&KID=unistore,video'}},\n",
       "  'bid': 'MiO1PcPXM'}}"
      ]
     },
     "execution_count": 32,
     "metadata": {},
     "output_type": "execute_result"
    }
   ],
   "source": [
    "tweet"
   ]
  },
  {
   "cell_type": "code",
   "execution_count": 14,
   "id": "46533070",
   "metadata": {},
   "outputs": [
    {
     "data": {
      "text/plain": [
       "dict_keys(['visible', 'created_at', 'id', 'mid', 'can_edit', 'show_additional_indication', 'text', 'textLength', 'source', 'favorited', 'pic_ids', 'is_paid', 'mblog_vip_type', 'user', 'reposts_count', 'comments_count', 'reprint_cmt_count', 'attitudes_count', 'pending_approval_count', 'isLongText', 'mlevel', 'show_mlevel', 'darwin_tags', 'hot_page', 'mblogtype', 'rid', 'extern_safe', 'number_display_strategy', 'content_auth', 'safe_tags', 'comment_manage_info', 'hide_hot_flow', 'pic_num', 'fid', 'jump_type', 'new_comment_style', 'ab_switcher', 'region_name', 'region_opt', 'mblog_menu_new_style', 'edit_config', 'page_info', 'bid'])"
      ]
     },
     "execution_count": 14,
     "metadata": {},
     "output_type": "execute_result"
    }
   ],
   "source": [
    "tweet.keys()"
   ]
  },
  {
   "cell_type": "code",
   "execution_count": 37,
   "id": "c6b429f2",
   "metadata": {},
   "outputs": [
    {
     "data": {
      "text/plain": [
       "1987"
      ]
     },
     "execution_count": 37,
     "metadata": {},
     "output_type": "execute_result"
    }
   ],
   "source": [
    "from weibo_scraper import  get_weibo_tweets_by_name\n",
    "all_tweets = [tweet for tweet in get_weibo_tweets_by_name(name='每日甜分')]\n",
    "len(all_tweets)"
   ]
  },
  {
   "cell_type": "code",
   "execution_count": 51,
   "id": "5b662300",
   "metadata": {},
   "outputs": [
    {
     "data": {
      "text/plain": [
       "False"
      ]
     },
     "execution_count": 51,
     "metadata": {},
     "output_type": "execute_result"
    }
   ],
   "source": [
    "all_tweets[24]['mblog']['isLongText']"
   ]
  },
  {
   "cell_type": "code",
   "execution_count": 52,
   "id": "77ffd1db",
   "metadata": {},
   "outputs": [
    {
     "data": {
      "text/plain": [
       "dict_keys(['card_type', 'profile_type_id', 'itemid', 'scheme', 'mblog'])"
      ]
     },
     "execution_count": 52,
     "metadata": {},
     "output_type": "execute_result"
    }
   ],
   "source": [
    "all_tweets[24].keys()"
   ]
  },
  {
   "cell_type": "code",
   "execution_count": 53,
   "id": "9324e4ed",
   "metadata": {},
   "outputs": [
    {
     "ename": "AttributeError",
     "evalue": "'str' object has no attribute 'keys'",
     "output_type": "error",
     "traceback": [
      "\u001b[0;31m---------------------------------------------------------------------------\u001b[0m",
      "\u001b[0;31mAttributeError\u001b[0m                            Traceback (most recent call last)",
      "Input \u001b[0;32mIn [53]\u001b[0m, in \u001b[0;36m<cell line: 1>\u001b[0;34m()\u001b[0m\n\u001b[0;32m----> 1\u001b[0m \u001b[43mall_tweets\u001b[49m\u001b[43m[\u001b[49m\u001b[38;5;241;43m24\u001b[39;49m\u001b[43m]\u001b[49m\u001b[43m[\u001b[49m\u001b[38;5;124;43m'\u001b[39;49m\u001b[38;5;124;43mitemid\u001b[39;49m\u001b[38;5;124;43m'\u001b[39;49m\u001b[43m]\u001b[49m\u001b[38;5;241;43m.\u001b[39;49m\u001b[43mkeys\u001b[49m()\n",
      "\u001b[0;31mAttributeError\u001b[0m: 'str' object has no attribute 'keys'"
     ]
    }
   ],
   "source": [
    "all_tweets[24]['itemid'].keys()"
   ]
  },
  {
   "cell_type": "code",
   "execution_count": 29,
   "id": "61fd11b8",
   "metadata": {},
   "outputs": [
    {
     "data": {
      "text/plain": [
       "0"
      ]
     },
     "execution_count": 29,
     "metadata": {},
     "output_type": "execute_result"
    }
   ],
   "source": []
  },
  {
   "cell_type": "code",
   "execution_count": 25,
   "id": "4ae9b9f2",
   "metadata": {},
   "outputs": [
    {
     "data": {
      "text/plain": [
       "{'card_type': 9,\n",
       " 'profile_type_id': 'proweibo_4783241309982731',\n",
       " 'itemid': '1076031192329374_-_4783241309982731',\n",
       " 'scheme': 'https://m.weibo.cn/status/LyVuaFSXN?mblogid=LyVuaFSXN&luicode=10000011&lfid=1076031192329374',\n",
       " 'mblog': {'visible': {'type': 0, 'list_id': 0},\n",
       "  'created_at': 'Wed Jun 22 19:24:19 +0800 2022',\n",
       "  'id': '4783241309982731',\n",
       "  'mid': '4783241309982731',\n",
       "  'can_edit': False,\n",
       "  'show_additional_indication': 0,\n",
       "  'text': '<a  href=\"https://m.weibo.cn/search?containerid=231522type%3D1%26t%3D10%26q%3D%23%E8%8B%B1%E5%BE%B7%E6%B4%AA%E6%B0%B4%23&luicode=10000011&lfid=1076031192329374\" data-hide=\"\"><span class=\"surl-text\">#英德洪水#</span></a> 希望大家多多关注英德',\n",
       "  'source': '',\n",
       "  'favorited': False,\n",
       "  'pic_ids': [],\n",
       "  'is_paid': False,\n",
       "  'mblog_vip_type': 0,\n",
       "  'user': {'id': 1192329374,\n",
       "   'screen_name': '谢娜',\n",
       "   'profile_image_url': 'https://tva3.sinaimg.cn/crop.0.1.1242.1242.180/4711809ejw8f387zus4vpj20yi0ykjwd.jpg?KID=imgbed,tva&Expires=1671501190&ssig=t8E8YXfRQN',\n",
       "   'profile_url': 'https://m.weibo.cn/u/1192329374?uid=1192329374&luicode=10000011&lfid=1076031192329374',\n",
       "   'statuses_count': 10701,\n",
       "   'verified': True,\n",
       "   'verified_type': 0,\n",
       "   'verified_type_ext': 1,\n",
       "   'verified_reason': '演员，主持人',\n",
       "   'close_blue_v': False,\n",
       "   'description': '太阳女神（也可称为喜神）的光芒照四方呀嘛照四方：）工作邮箱：w761324@qq.com（仅限工作）感谢！',\n",
       "   'gender': 'f',\n",
       "   'mbtype': 12,\n",
       "   'svip': 1,\n",
       "   'urank': 48,\n",
       "   'mbrank': 9,\n",
       "   'follow_me': False,\n",
       "   'following': False,\n",
       "   'follow_count': 749,\n",
       "   'followers_count': '1.28亿',\n",
       "   'followers_count_str': '1.28亿',\n",
       "   'cover_image_phone': 'https://tva4.sinaimg.cn/crop.0.0.640.640.640/6ce2240djw1e8iktk4ohij20hs0hsmz6.jpg',\n",
       "   'avatar_hd': 'https://ww3.sinaimg.cn/orj480/4711809ejw8f387zus4vpj20yi0ykjwd.jpg',\n",
       "   'like': False,\n",
       "   'like_me': False,\n",
       "   'badge': {'gongyi': 1,\n",
       "    'bind_taobao': 1,\n",
       "    'zongyiji': 1,\n",
       "    'dzwbqlx_2016': 1,\n",
       "    'follow_whitelist_video': 1,\n",
       "    'video_attention': 1,\n",
       "    'user_name_certificate': 1,\n",
       "    'wenchuan_10th': 1,\n",
       "    'dailv_2018': 5,\n",
       "    'qixi_2018': 1,\n",
       "    'yiqijuan_2018': 1,\n",
       "    'double11_2018': 1,\n",
       "    'wbzy_2018': 1,\n",
       "    'memorial_2018': 1,\n",
       "    'hongbaofei_2019': 1,\n",
       "    'status_visible': 1,\n",
       "    'china_2019': 1,\n",
       "    'rrgyj_2019': 1,\n",
       "    'gongjiri_2019': 1,\n",
       "    'hongbao_2020': 2,\n",
       "    'feiyan_2020': 1,\n",
       "    'pc_new': 7,\n",
       "    'dailv_2020': 1,\n",
       "    'china_2020': 1,\n",
       "    'gaokao_2021': 1,\n",
       "    'party_cardid_state': 1,\n",
       "    'city_university': 24,\n",
       "    'gaokao_2022': 1,\n",
       "    'hangmu_2022': 1,\n",
       "    'guoqi_2022': 1,\n",
       "    'gangqi_2022': 1,\n",
       "    'guoq_2022': 1}},\n",
       "  'retweeted_status': {'visible': {'type': 0, 'list_id': 0},\n",
       "   'created_at': 'Wed Jun 22 08:12:28 +0800 2022',\n",
       "   'id': '4783072232345500',\n",
       "   'mid': '4783072232345500',\n",
       "   'can_edit': False,\n",
       "   'show_additional_indication': 0,\n",
       "   'text': '【转需！<a  href=\"https://m.weibo.cn/search?containerid=231522type%3D1%26t%3D10%26q%3D%23%E8%8B%B1%E5%BE%B7%E9%98%B2%E6%B1%9B%E5%BA%94%E6%80%A5%E6%95%91%E6%8F%B4%E7%94%B5%E8%AF%9D%23&extparam=%23%E8%8B%B1%E5%BE%B7%E9%98%B2%E6%B1%9B%E5%BA%94%E6%80%A5%E6%95%91%E6%8F%B4%E7%94%B5%E8%AF%9D%23&luicode=10000011&lfid=1076031192329374\" data-hide=\"\"><span class=\"surl-text\">#英德防汛应急救援电话#</span></a>】据预计，北江干流英德站将于今天8点前后出现36.10米左右的洪峰水位，<a  href=\"https://m.weibo.cn/search?containerid=231522type%3D1%26t%3D10%26q%3D%23%E8%8B%B1%E5%BE%B7%E7%AB%99%E5%B0%86%E8%B6%85%E8%AD%A6%E6%88%92%E6%B0%B4%E4%BD%8D10%E7%B1%B3%E4%BB%A5%E4%B8%8A%23&extparam=%23%E8%8B%B1%E5%BE%B7%E7%AB%99%E5%B0%86%E8%B6%85%E8%AD%A6%E6%88%92%E6%B0%B4%E4%BD%8D10%E7%B1%B3%E4%BB%A5%E4%B8%8A%23&luicode=10000011&lfid=1076031192329374\" data-hide=\"\"><span class=\"surl-text\">#英德站将超警戒水位10米以上#</span></a>。若你身边有人需要紧急救援，请拨打以下电话↓愿平安！<a  href=\"https://weibo.cn/sinaurl?u=https%3A%2F%2Fmp.weixin.qq.com%2Fs%2FYChiv2bIFPPxmwaoVHjLZA\" data-hide=\"\"><span class=\\'url-icon\\'><img style=\\'width: 1rem;height: 1rem\\' src=\\'https://h5.sinaimg.cn/upload/2015/09/25/3/timeline_card_small_web_default.png\\'></span><span class=\"surl-text\">这些电话要紧记 紧急时候可救命！</span></a> ',\n",
       "   'textLength': 196,\n",
       "   'source': '微博 weibo.com',\n",
       "   'favorited': False,\n",
       "   'pic_ids': ['0033ImPzly1h3gpd2qfrbj60gx0um41s02'],\n",
       "   'thumbnail_pic': 'https://wx3.sinaimg.cn/thumbnail/0033ImPzly1h3gpd2qfrbj60gx0um41s02.jpg',\n",
       "   'bmiddle_pic': 'http://wx3.sinaimg.cn/bmiddle/0033ImPzly1h3gpd2qfrbj60gx0um41s02.jpg',\n",
       "   'original_pic': 'https://wx3.sinaimg.cn/large/0033ImPzly1h3gpd2qfrbj60gx0um41s02.jpg',\n",
       "   'is_paid': False,\n",
       "   'mblog_vip_type': 0,\n",
       "   'user': {'id': 2803301701,\n",
       "    'screen_name': '人民日报',\n",
       "    'profile_image_url': 'https://tvax4.sinaimg.cn/crop.0.0.1018.1018.180/0033ImPzly8h8vgemh8kxj60sa0sadgw02.jpg?KID=imgbed,tva&Expires=1671501190&ssig=xI%2BX7kFhX%2B',\n",
       "    'profile_url': 'https://m.weibo.cn/u/2803301701?uid=2803301701&luicode=10000011&lfid=1076031192329374',\n",
       "    'statuses_count': 152308,\n",
       "    'verified': True,\n",
       "    'verified_type': 3,\n",
       "    'verified_type_ext': 0,\n",
       "    'verified_reason': '《人民日报》法人微博',\n",
       "    'close_blue_v': False,\n",
       "    'description': '人民日报法人微博。参与、沟通、记录时代。',\n",
       "    'gender': 'm',\n",
       "    'mbtype': 12,\n",
       "    'svip': 0,\n",
       "    'urank': 48,\n",
       "    'mbrank': 7,\n",
       "    'follow_me': False,\n",
       "    'following': False,\n",
       "    'follow_count': 3063,\n",
       "    'followers_count': '1.51亿',\n",
       "    'followers_count_str': '1.51亿',\n",
       "    'cover_image_phone': 'https://wx1.sinaimg.cn/crop.0.0.640.640.640/0033ImPzly1gs64jwa7uyj60v90v9n1r02.jpg',\n",
       "    'avatar_hd': 'https://wx4.sinaimg.cn/orj480/0033ImPzly8h8vgemh8kxj60sa0sadgw02.jpg',\n",
       "    'like': False,\n",
       "    'like_me': False,\n",
       "    'badge': {'enterprise': 1,\n",
       "     'gongyi': 1,\n",
       "     'gongyi_level': 2,\n",
       "     'dailv': 1,\n",
       "     'self_media': 1,\n",
       "     'dzwbqlx_2016': 1,\n",
       "     'follow_whitelist_video': 1,\n",
       "     'user_name_certificate': 1,\n",
       "     'wenchuan_10th': 1,\n",
       "     'qixi_2018': 1,\n",
       "     'national_day_2018': 1,\n",
       "     'memorial_2018': 1,\n",
       "     'fu_2019': 1,\n",
       "     'suishoupai_2019': 1,\n",
       "     'earth_2019': 1,\n",
       "     'hongrenjie_2019': 1,\n",
       "     'china_2019': 1,\n",
       "     'hongkong_2019': 1,\n",
       "     'rrgyj_2019': 1,\n",
       "     'weishi_2019': 1,\n",
       "     'starlight_2019': 1,\n",
       "     'gongjiri_2019': 1,\n",
       "     'macao_2019': 1,\n",
       "     'china_2019_2': 1,\n",
       "     'hongbao_2020': 2,\n",
       "     'feiyan_2020': 1,\n",
       "     'hope_2020': 1,\n",
       "     'graduation_2020': 1,\n",
       "     'pc_new': 7,\n",
       "     'dailv_2020': 1,\n",
       "     'school_2020': 1,\n",
       "     'china_2020': 1,\n",
       "     'lvzhilingyang_2021': 1,\n",
       "     'earthguarder_2021': 1,\n",
       "     'yuanlongping_2021': 1,\n",
       "     'ylpshuidao_2021': 1,\n",
       "     'gaokao_2021': 1,\n",
       "     'party_cardid_state': 2,\n",
       "     'aoyun_2021': 1,\n",
       "     'fishfarm_2021': 3,\n",
       "     'renrengongyijie_2021': 1,\n",
       "     'dongaohui_2022': 1,\n",
       "     'newdongaohui_2022': 1,\n",
       "     'bddxrrdongaohui_2022': 1,\n",
       "     'nihaochuntian_2022': 1,\n",
       "     'biyeji_2022': 1,\n",
       "     'shuidao_2022': 1,\n",
       "     'gaokao_2022': 1,\n",
       "     'hangmu_2022': 1,\n",
       "     'guoqi_2022': 1,\n",
       "     'gangqi_2022': 1,\n",
       "     'guoq_2022': 1}},\n",
       "   'picStatus': '1',\n",
       "   'reposts_count': 878392,\n",
       "   'comments_count': 5082,\n",
       "   'reprint_cmt_count': 0,\n",
       "   'attitudes_count': 40530,\n",
       "   'pending_approval_count': 0,\n",
       "   'isLongText': False,\n",
       "   'mlevel': 0,\n",
       "   'show_mlevel': 0,\n",
       "   'ad_state': 1,\n",
       "   'darwin_tags': [],\n",
       "   'hot_page': {'fid': '232532_mblog', 'feed_detail_type': 0},\n",
       "   'mblogtype': 0,\n",
       "   'rid': '9_0_50_5225456850986955865_0_0_0',\n",
       "   'cardid': 'star_1573',\n",
       "   'content_auth': 3,\n",
       "   'comment_manage_info': {'comment_permission_type': -1,\n",
       "    'approval_comment_type': 0,\n",
       "    'comment_sort_type': 0,\n",
       "    'ai_play_picture_type': 0},\n",
       "   'pic_num': 1,\n",
       "   'new_comment_style': 0,\n",
       "   'edit_config': {'edited': False},\n",
       "   'page_info': {'object_type': 2,\n",
       "    'type': 'webpage',\n",
       "    'page_pic': {'url': 'https://img.t.sinajs.cn/t6/style/images/face/face_card_longwb.png'},\n",
       "    'page_url': 'https://weibo.cn/sinaurl?luicode=10000011&lfid=1076031192329374&u=https%3A%2F%2Fmp.weixin.qq.com%2Fs%2FYChiv2bIFPPxmwaoVHjLZA',\n",
       "    'url_ori': 'http://t.cn/A6a2R5G4',\n",
       "    'page_title': '这些电话要紧记 紧急时候可救命！',\n",
       "    'content1': '为有效应对汛情，减少人民群众生命财产损失，现将英德境内防汛应急救援电话予以公告如下：'},\n",
       "   'pics': [{'pid': '0033ImPzly1h3gpd2qfrbj60gx0um41s02',\n",
       "     'url': 'https://wx3.sinaimg.cn/orj360/0033ImPzly1h3gpd2qfrbj60gx0um41s02.jpg',\n",
       "     'size': 'orj360',\n",
       "     'geo': {'width': 360, 'height': 651, 'croped': False},\n",
       "     'large': {'size': 'large',\n",
       "      'url': 'https://wx3.sinaimg.cn/large/0033ImPzly1h3gpd2qfrbj60gx0um41s02.jpg',\n",
       "      'geo': {'width': '609', 'height': '1102', 'croped': False}}}],\n",
       "   'bid': 'LyR5t9QaE'},\n",
       "  'reposts_count': 3457,\n",
       "  'comments_count': 3911,\n",
       "  'reprint_cmt_count': 0,\n",
       "  'attitudes_count': 18569,\n",
       "  'pending_approval_count': 0,\n",
       "  'isLongText': False,\n",
       "  'mlevel': 0,\n",
       "  'show_mlevel': 0,\n",
       "  'darwin_tags': [],\n",
       "  'hot_page': {'fid': '232532_mblog', 'feed_detail_type': 0},\n",
       "  'mblogtype': 0,\n",
       "  'rid': '9_0_50_5225456850986955865_0_0_0',\n",
       "  'extern_safe': 0,\n",
       "  'number_display_strategy': {'apply_scenario_flag': 3,\n",
       "   'display_text_min_number': 1000000,\n",
       "   'display_text': '100万+'},\n",
       "  'content_auth': 0,\n",
       "  'safe_tags': 67108864,\n",
       "  'comment_manage_info': {'comment_permission_type': -1,\n",
       "   'approval_comment_type': 0,\n",
       "   'comment_sort_type': 0},\n",
       "  'hide_hot_flow': 1,\n",
       "  'repost_type': 1,\n",
       "  'pic_num': 0,\n",
       "  'new_comment_style': 0,\n",
       "  'ab_switcher': 4,\n",
       "  'region_name': '发布于 北京',\n",
       "  'region_opt': 1,\n",
       "  'mblog_menu_new_style': 0,\n",
       "  'edit_config': {'edited': False},\n",
       "  'raw_text': '#英德洪水# 希望大家多多关注英德',\n",
       "  'bid': 'LyVuaFSXN'}}"
      ]
     },
     "execution_count": 25,
     "metadata": {},
     "output_type": "execute_result"
    }
   ],
   "source": [
    "all_tweets[len(all_tweets)-1]"
   ]
  },
  {
   "cell_type": "code",
   "execution_count": 22,
   "id": "5356b938",
   "metadata": {},
   "outputs": [
    {
     "name": "stdout",
     "output_type": "stream",
     "text": [
      "我的新书《<a  href=\"https://m.weibo.cn/search?containerid=231522type%3D1%26t%3D10%26q%3D%23%E5%A8%9C%E5%B0%B1%E5%87%BA%E5%8F%91%E5%90%A7%23&luicode=10000011&lfid=1076031192329374\" data-hide=\"\"><span class=\"surl-text\">#娜就出发吧#</span></a>》终于要和大家见面了。<br />在怀小咘芽期间，我有了一段悠长的假期，让我慢慢回忆起很多美好的事，小时候跟随姐姐初次走出家门的兴奋与期待，在最忙的时候停下来游学的新鲜和历练，初次成为“娜团长”的挑战和憧憬。再到后来回归荧幕，朋友请听好温暖回归，担任“乘风发布人”全新 ...<a href=\"/status/4783461749227675\">全文</a>\n"
     ]
    }
   ],
   "source": [
    "print(all_tweets[len(all_tweets)-2]['mblog']['text'])"
   ]
  }
 ],
 "metadata": {
  "kernelspec": {
   "display_name": "Python 3 (ipykernel)",
   "language": "python",
   "name": "python3"
  },
  "language_info": {
   "codemirror_mode": {
    "name": "ipython",
    "version": 3
   },
   "file_extension": ".py",
   "mimetype": "text/x-python",
   "name": "python",
   "nbconvert_exporter": "python",
   "pygments_lexer": "ipython3",
   "version": "3.9.12"
  }
 },
 "nbformat": 4,
 "nbformat_minor": 5
}
